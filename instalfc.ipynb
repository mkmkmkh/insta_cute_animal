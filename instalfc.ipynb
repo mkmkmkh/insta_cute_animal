{
 "cells": [
  {
   "attachments": {},
   "cell_type": "markdown",
   "metadata": {},
   "source": [
    "인스타 로그인해서 코멘트 달아주거나 좋아요 한 사람들 팔로우 누르기\n",
    "\n",
    "좋아요 제한 1000개-->100개만\n",
    "팔로우 제한 750개  --> 75개만\n",
    "일정 시간 내에 동일한 댓글을 연속으로 작성하는 것을 제한 --> 다른 멘트로 10개만."
   ]
  },
  {
   "cell_type": "code",
   "execution_count": 3,
   "metadata": {},
   "outputs": [
    {
     "name": "stderr",
     "output_type": "stream",
     "text": [
      "C:\\Users\\Administrator\\AppData\\Local\\Temp\\ipykernel_17544\\3105375555.py:18: DeprecationWarning: executable_path has been deprecated, please pass in a Service object\n",
      "  driver = webdriver.Chrome('chromedriver.exe')\n"
     ]
    }
   ],
   "source": [
    "import os\n",
    "import urllib\n",
    "import unicodedata\n",
    "import re\n",
    "from selenium import webdriver\n",
    "from selenium.webdriver.common.keys import Keys\n",
    "from selenium.webdriver.common.by import By\n",
    "from selenium.webdriver.support.ui import WebDriverWait\n",
    "from selenium.webdriver.support import expected_conditions as EC\n",
    "import time\n",
    "from PIL import Image\n",
    "from imagesearchandclick import *\n",
    "import pyautogui\n",
    "import time\n",
    "import clipboard\n",
    "long_wait = 10\n",
    "short_wait = 4\n",
    "driver = webdriver.Chrome('chromedriver.exe')\n",
    "################################################### 고양이 부분 #################################\n"
   ]
  },
  {
   "cell_type": "code",
   "execution_count": 32,
   "metadata": {},
   "outputs": [
    {
     "ename": "NoSuchElementException",
     "evalue": "Message: no such element: Unable to locate element: {\"method\":\"xpath\",\"selector\":\"//*[@id=\"loginForm\"]/div/div[1]/div/label/input\"}\n  (Session info: chrome=112.0.5615.87)\nStacktrace:\nBacktrace:\n\t(No symbol) [0x004ADCE3]\n\t(No symbol) [0x004439D1]\n\t(No symbol) [0x00354DA8]\n\t(No symbol) [0x0038019F]\n\t(No symbol) [0x003803AB]\n\t(No symbol) [0x003AEE62]\n\t(No symbol) [0x0039AF14]\n\t(No symbol) [0x003AD57C]\n\t(No symbol) [0x0039ACC6]\n\t(No symbol) [0x00376F68]\n\t(No symbol) [0x003780CD]\n\tGetHandleVerifier [0x00723832+2506274]\n\tGetHandleVerifier [0x00759794+2727300]\n\tGetHandleVerifier [0x0075E36C+2746716]\n\tGetHandleVerifier [0x00556690+617600]\n\t(No symbol) [0x0044C712]\n\t(No symbol) [0x00451FF8]\n\t(No symbol) [0x004520DB]\n\t(No symbol) [0x0045C63B]\n\tBaseThreadInitThunk [0x757400F9+25]\n\tRtlGetAppContainerNamedObjectPath [0x77697BBE+286]\n\tRtlGetAppContainerNamedObjectPath [0x77697B8E+238]\n",
     "output_type": "error",
     "traceback": [
      "\u001b[1;31m---------------------------------------------------------------------------\u001b[0m",
      "\u001b[1;31mNoSuchElementException\u001b[0m                    Traceback (most recent call last)",
      "Cell \u001b[1;32mIn[32], line 22\u001b[0m\n\u001b[0;32m     18\u001b[0m     driver\u001b[39m.\u001b[39mimplicitly_wait(long_wait)\n\u001b[0;32m     19\u001b[0m     time\u001b[39m.\u001b[39msleep(short_wait)\n\u001b[1;32m---> 22\u001b[0m INSTALOGIN(\u001b[39m'\u001b[39;49m\u001b[39mcute_cat_collect\u001b[39;49m\u001b[39m'\u001b[39;49m,\u001b[39m'\u001b[39;49m\u001b[39mzx031263\u001b[39;49m\u001b[39m'\u001b[39;49m)\n",
      "Cell \u001b[1;32mIn[32], line 10\u001b[0m, in \u001b[0;36mINSTALOGIN\u001b[1;34m(ID, PW)\u001b[0m\n\u001b[0;32m      6\u001b[0m driver\u001b[39m.\u001b[39mimplicitly_wait(long_wait)\n\u001b[0;32m      7\u001b[0m \u001b[39m# 고양이 계정은 마이스누아이디\u001b[39;00m\n\u001b[0;32m      8\u001b[0m \u001b[39m# 강아지 계정은 구글부계정연결\u001b[39;00m\n\u001b[0;32m      9\u001b[0m \u001b[39m# ID와 비밀번호 입력\u001b[39;00m\n\u001b[1;32m---> 10\u001b[0m driver\u001b[39m.\u001b[39;49mfind_element(\n\u001b[0;32m     11\u001b[0m     by\u001b[39m=\u001b[39;49mBy\u001b[39m.\u001b[39;49mXPATH, value\u001b[39m=\u001b[39;49m\u001b[39m'\u001b[39;49m\u001b[39m//*[@id=\u001b[39;49m\u001b[39m\"\u001b[39;49m\u001b[39mloginForm\u001b[39;49m\u001b[39m\"\u001b[39;49m\u001b[39m]/div/div[1]/div/label/input\u001b[39;49m\u001b[39m'\u001b[39;49m)\u001b[39m.\u001b[39msend_keys(ID)\n\u001b[0;32m     12\u001b[0m time\u001b[39m.\u001b[39msleep(short_wait)\n\u001b[0;32m     13\u001b[0m driver\u001b[39m.\u001b[39mfind_element(\n\u001b[0;32m     14\u001b[0m     by\u001b[39m=\u001b[39mBy\u001b[39m.\u001b[39mXPATH, value\u001b[39m=\u001b[39m\u001b[39m'\u001b[39m\u001b[39m//*[@id=\u001b[39m\u001b[39m\"\u001b[39m\u001b[39mloginForm\u001b[39m\u001b[39m\"\u001b[39m\u001b[39m]/div/div[2]/div/label/input\u001b[39m\u001b[39m'\u001b[39m)\u001b[39m.\u001b[39msend_keys(PW)\n",
      "File \u001b[1;32mc:\\Users\\Administrator\\AppData\\Local\\Programs\\Python\\Python310\\lib\\site-packages\\selenium\\webdriver\\remote\\webdriver.py:830\u001b[0m, in \u001b[0;36mWebDriver.find_element\u001b[1;34m(self, by, value)\u001b[0m\n\u001b[0;32m    827\u001b[0m     by \u001b[39m=\u001b[39m By\u001b[39m.\u001b[39mCSS_SELECTOR\n\u001b[0;32m    828\u001b[0m     value \u001b[39m=\u001b[39m \u001b[39mf\u001b[39m\u001b[39m'\u001b[39m\u001b[39m[name=\u001b[39m\u001b[39m\"\u001b[39m\u001b[39m{\u001b[39;00mvalue\u001b[39m}\u001b[39;00m\u001b[39m\"\u001b[39m\u001b[39m]\u001b[39m\u001b[39m'\u001b[39m\n\u001b[1;32m--> 830\u001b[0m \u001b[39mreturn\u001b[39;00m \u001b[39mself\u001b[39;49m\u001b[39m.\u001b[39;49mexecute(Command\u001b[39m.\u001b[39;49mFIND_ELEMENT, {\u001b[39m\"\u001b[39;49m\u001b[39musing\u001b[39;49m\u001b[39m\"\u001b[39;49m: by, \u001b[39m\"\u001b[39;49m\u001b[39mvalue\u001b[39;49m\u001b[39m\"\u001b[39;49m: value})[\u001b[39m\"\u001b[39m\u001b[39mvalue\u001b[39m\u001b[39m\"\u001b[39m]\n",
      "File \u001b[1;32mc:\\Users\\Administrator\\AppData\\Local\\Programs\\Python\\Python310\\lib\\site-packages\\selenium\\webdriver\\remote\\webdriver.py:440\u001b[0m, in \u001b[0;36mWebDriver.execute\u001b[1;34m(self, driver_command, params)\u001b[0m\n\u001b[0;32m    438\u001b[0m response \u001b[39m=\u001b[39m \u001b[39mself\u001b[39m\u001b[39m.\u001b[39mcommand_executor\u001b[39m.\u001b[39mexecute(driver_command, params)\n\u001b[0;32m    439\u001b[0m \u001b[39mif\u001b[39;00m response:\n\u001b[1;32m--> 440\u001b[0m     \u001b[39mself\u001b[39;49m\u001b[39m.\u001b[39;49merror_handler\u001b[39m.\u001b[39;49mcheck_response(response)\n\u001b[0;32m    441\u001b[0m     response[\u001b[39m\"\u001b[39m\u001b[39mvalue\u001b[39m\u001b[39m\"\u001b[39m] \u001b[39m=\u001b[39m \u001b[39mself\u001b[39m\u001b[39m.\u001b[39m_unwrap_value(response\u001b[39m.\u001b[39mget(\u001b[39m\"\u001b[39m\u001b[39mvalue\u001b[39m\u001b[39m\"\u001b[39m, \u001b[39mNone\u001b[39;00m))\n\u001b[0;32m    442\u001b[0m     \u001b[39mreturn\u001b[39;00m response\n",
      "File \u001b[1;32mc:\\Users\\Administrator\\AppData\\Local\\Programs\\Python\\Python310\\lib\\site-packages\\selenium\\webdriver\\remote\\errorhandler.py:245\u001b[0m, in \u001b[0;36mErrorHandler.check_response\u001b[1;34m(self, response)\u001b[0m\n\u001b[0;32m    243\u001b[0m         alert_text \u001b[39m=\u001b[39m value[\u001b[39m\"\u001b[39m\u001b[39malert\u001b[39m\u001b[39m\"\u001b[39m]\u001b[39m.\u001b[39mget(\u001b[39m\"\u001b[39m\u001b[39mtext\u001b[39m\u001b[39m\"\u001b[39m)\n\u001b[0;32m    244\u001b[0m     \u001b[39mraise\u001b[39;00m exception_class(message, screen, stacktrace, alert_text)  \u001b[39m# type: ignore[call-arg]  # mypy is not smart enough here\u001b[39;00m\n\u001b[1;32m--> 245\u001b[0m \u001b[39mraise\u001b[39;00m exception_class(message, screen, stacktrace)\n",
      "\u001b[1;31mNoSuchElementException\u001b[0m: Message: no such element: Unable to locate element: {\"method\":\"xpath\",\"selector\":\"//*[@id=\"loginForm\"]/div/div[1]/div/label/input\"}\n  (Session info: chrome=112.0.5615.87)\nStacktrace:\nBacktrace:\n\t(No symbol) [0x004ADCE3]\n\t(No symbol) [0x004439D1]\n\t(No symbol) [0x00354DA8]\n\t(No symbol) [0x0038019F]\n\t(No symbol) [0x003803AB]\n\t(No symbol) [0x003AEE62]\n\t(No symbol) [0x0039AF14]\n\t(No symbol) [0x003AD57C]\n\t(No symbol) [0x0039ACC6]\n\t(No symbol) [0x00376F68]\n\t(No symbol) [0x003780CD]\n\tGetHandleVerifier [0x00723832+2506274]\n\tGetHandleVerifier [0x00759794+2727300]\n\tGetHandleVerifier [0x0075E36C+2746716]\n\tGetHandleVerifier [0x00556690+617600]\n\t(No symbol) [0x0044C712]\n\t(No symbol) [0x00451FF8]\n\t(No symbol) [0x004520DB]\n\t(No symbol) [0x0045C63B]\n\tBaseThreadInitThunk [0x757400F9+25]\n\tRtlGetAppContainerNamedObjectPath [0x77697BBE+286]\n\tRtlGetAppContainerNamedObjectPath [0x77697B8E+238]\n"
     ]
    }
   ],
   "source": [
    "def INSTALOGIN(ID, PW):\n",
    "    # 로그인 페이지로 이동\n",
    "    ID_=ID\n",
    "    driver.get('https://www.instagram.com/login/')\n",
    "    driver.maximize_window()\n",
    "    driver.implicitly_wait(long_wait)\n",
    "    # 고양이 계정은 마이스누아이디\n",
    "    # 강아지 계정은 구글부계정연결\n",
    "    # ID와 비밀번호 입력\n",
    "    driver.find_element(\n",
    "        by=By.XPATH, value='//*[@id=\"loginForm\"]/div/div[1]/div/label/input').send_keys(ID)\n",
    "    time.sleep(short_wait)\n",
    "    driver.find_element(\n",
    "        by=By.XPATH, value='//*[@id=\"loginForm\"]/div/div[2]/div/label/input').send_keys(PW)\n",
    "    time.sleep(short_wait)\n",
    "    # 로그인 버튼 클릭\n",
    "    pyautogui.click(x=958, y=457)\n",
    "    driver.implicitly_wait(long_wait)\n",
    "    time.sleep(short_wait)\n",
    "\n",
    "    \n",
    "try:\n",
    "    INSTALOGIN('cute_cat_collect','zx031263')\n",
    "except:\n",
    "    pass\n"
   ]
  },
  {
   "cell_type": "code",
   "execution_count": 40,
   "metadata": {},
   "outputs": [],
   "source": [
    "def INSTAREACTFOLLOW(ID):\n",
    "    driver.get(f'https://www.instagram.com/{ID}/')\n",
    "    driver.implicitly_wait(long_wait)\n",
    "    time.sleep(short_wait)\n",
    "    #하트,알림 버튼 클릭\n",
    "    try:\n",
    "        driver.find_element(\n",
    "            by=By.XPATH, value='/html/body/div[2]/div/div/div[2]/div/div/div/div[1]/div[1]/div[1]/div/div/div/div/div[2]/div[6]/div/a/div/div[2]/div/div').click()\n",
    "    except :\n",
    "        pass\n",
    "\n",
    "    #'오늘' 이라는 부분이 있으면 클릭해서 팔로우하거나 좋아요 누르기. 팔로우 수가 팔로워 보다 많을 때에만 클릭(개인계정)\n",
    "    div=None\n",
    "    try:\n",
    "        div = driver.find_element(by=By.XPATH, value='//*[@id=\"mount_0_0_ke\"]/div/div/div[2]/div/div/div/div[1]/div[1]/div[1]/div/div/div[2]/div/div/div/div/div[2]/div[1]/span')\n",
    "    except :\n",
    "        pass\n",
    "\n",
    "\n",
    "    if div !=None:\n",
    "        driver.find_element(by=By.XPATH, value='//*[@id=\"mount_0_0_ke\"]/div/div/div[2]/div/div/div/div[1]/div[1]/div[1]/div/div/div[2]/div/div/div/div/div[2]/div[2]/div').click()\n",
    "        driver.implicitly_wait(long_wait)\n",
    "        time.sleep(short_wait)\n",
    "        try:\n",
    "            driver.find_element(by=By.XPATH, value='//*[@id=\"mount_0_0_gT\"]/div/div/div[2]/div/div/div/div[1]/div[1]/div[1]/div/div/div[2]/div/div/div/div/div[2]/div/div/div[1]/div[1]/a/span').click()\n",
    "            driver.implicitly_wait(long_wait)\n",
    "            time.sleep(short_wait)\n",
    "        except:\n",
    "            pass\n",
    "\n",
    "INSTAREACTFOLLOW('cute_cat_collect')"
   ]
  },
  {
   "cell_type": "code",
   "execution_count": 47,
   "metadata": {},
   "outputs": [
    {
     "data": {
      "text/plain": [
       "'알림'"
      ]
     },
     "execution_count": 47,
     "metadata": {},
     "output_type": "execute_result"
    }
   ],
   "source": [
    "tests=driver.find_element(\n",
    "    by=By.XPATH, value='/html/body/div[2]/div/div/div[2]/div/div/div/div[1]/div[1]/div[1]/div/div/div/div/div[2]/div[6]/div/a/div/div[2]/div/div')"
   ]
  },
  {
   "cell_type": "code",
   "execution_count": null,
   "metadata": {},
   "outputs": [],
   "source": []
  },
  {
   "cell_type": "code",
   "execution_count": 19,
   "metadata": {},
   "outputs": [
    {
     "ename": "NoSuchElementException",
     "evalue": "Message: no such element: Unable to locate element: {\"method\":\"xpath\",\"selector\":\"//*[@id=\"mount_0_0_ke\"]/div/div/div[2]/div/div/div/div[1]/div[1]/div[1]/div/div/div[2]/div/div/div/div/div[2]/div[2]/div\"}\n  (Session info: chrome=112.0.5615.87)\nStacktrace:\nBacktrace:\n\t(No symbol) [0x004ADCE3]\n\t(No symbol) [0x004439D1]\n\t(No symbol) [0x00354DA8]\n\t(No symbol) [0x0038019F]\n\t(No symbol) [0x003803AB]\n\t(No symbol) [0x003AEE62]\n\t(No symbol) [0x0039AF14]\n\t(No symbol) [0x003AD57C]\n\t(No symbol) [0x0039ACC6]\n\t(No symbol) [0x00376F68]\n\t(No symbol) [0x003780CD]\n\tGetHandleVerifier [0x00723832+2506274]\n\tGetHandleVerifier [0x00759794+2727300]\n\tGetHandleVerifier [0x0075E36C+2746716]\n\tGetHandleVerifier [0x00556690+617600]\n\t(No symbol) [0x0044C712]\n\t(No symbol) [0x00451FF8]\n\t(No symbol) [0x004520DB]\n\t(No symbol) [0x0045C63B]\n\tBaseThreadInitThunk [0x757400F9+25]\n\tRtlGetAppContainerNamedObjectPath [0x77697BBE+286]\n\tRtlGetAppContainerNamedObjectPath [0x77697B8E+238]\n",
     "output_type": "error",
     "traceback": [
      "\u001b[1;31m---------------------------------------------------------------------------\u001b[0m",
      "\u001b[1;31mNoSuchElementException\u001b[0m                    Traceback (most recent call last)",
      "Cell \u001b[1;32mIn[19], line 1\u001b[0m\n\u001b[1;32m----> 1\u001b[0m driver\u001b[39m.\u001b[39;49mfind_element(by\u001b[39m=\u001b[39;49mBy\u001b[39m.\u001b[39;49mXPATH, value\u001b[39m=\u001b[39;49m\u001b[39m'\u001b[39;49m\u001b[39m//*[@id=\u001b[39;49m\u001b[39m\"\u001b[39;49m\u001b[39mmount_0_0_ke\u001b[39;49m\u001b[39m\"\u001b[39;49m\u001b[39m]/div/div/div[2]/div/div/div/div[1]/div[1]/div[1]/div/div/div[2]/div/div/div/div/div[2]/div[2]/div\u001b[39;49m\u001b[39m'\u001b[39;49m)\u001b[39m.\u001b[39mclick()\n\u001b[0;32m      2\u001b[0m driver\u001b[39m.\u001b[39mimplicitly_wait(long_wait)\n\u001b[0;32m      3\u001b[0m time\u001b[39m.\u001b[39msleep(short_wait)\n",
      "File \u001b[1;32mc:\\Users\\Administrator\\AppData\\Local\\Programs\\Python\\Python310\\lib\\site-packages\\selenium\\webdriver\\remote\\webdriver.py:830\u001b[0m, in \u001b[0;36mWebDriver.find_element\u001b[1;34m(self, by, value)\u001b[0m\n\u001b[0;32m    827\u001b[0m     by \u001b[39m=\u001b[39m By\u001b[39m.\u001b[39mCSS_SELECTOR\n\u001b[0;32m    828\u001b[0m     value \u001b[39m=\u001b[39m \u001b[39mf\u001b[39m\u001b[39m'\u001b[39m\u001b[39m[name=\u001b[39m\u001b[39m\"\u001b[39m\u001b[39m{\u001b[39;00mvalue\u001b[39m}\u001b[39;00m\u001b[39m\"\u001b[39m\u001b[39m]\u001b[39m\u001b[39m'\u001b[39m\n\u001b[1;32m--> 830\u001b[0m \u001b[39mreturn\u001b[39;00m \u001b[39mself\u001b[39;49m\u001b[39m.\u001b[39;49mexecute(Command\u001b[39m.\u001b[39;49mFIND_ELEMENT, {\u001b[39m\"\u001b[39;49m\u001b[39musing\u001b[39;49m\u001b[39m\"\u001b[39;49m: by, \u001b[39m\"\u001b[39;49m\u001b[39mvalue\u001b[39;49m\u001b[39m\"\u001b[39;49m: value})[\u001b[39m\"\u001b[39m\u001b[39mvalue\u001b[39m\u001b[39m\"\u001b[39m]\n",
      "File \u001b[1;32mc:\\Users\\Administrator\\AppData\\Local\\Programs\\Python\\Python310\\lib\\site-packages\\selenium\\webdriver\\remote\\webdriver.py:440\u001b[0m, in \u001b[0;36mWebDriver.execute\u001b[1;34m(self, driver_command, params)\u001b[0m\n\u001b[0;32m    438\u001b[0m response \u001b[39m=\u001b[39m \u001b[39mself\u001b[39m\u001b[39m.\u001b[39mcommand_executor\u001b[39m.\u001b[39mexecute(driver_command, params)\n\u001b[0;32m    439\u001b[0m \u001b[39mif\u001b[39;00m response:\n\u001b[1;32m--> 440\u001b[0m     \u001b[39mself\u001b[39;49m\u001b[39m.\u001b[39;49merror_handler\u001b[39m.\u001b[39;49mcheck_response(response)\n\u001b[0;32m    441\u001b[0m     response[\u001b[39m\"\u001b[39m\u001b[39mvalue\u001b[39m\u001b[39m\"\u001b[39m] \u001b[39m=\u001b[39m \u001b[39mself\u001b[39m\u001b[39m.\u001b[39m_unwrap_value(response\u001b[39m.\u001b[39mget(\u001b[39m\"\u001b[39m\u001b[39mvalue\u001b[39m\u001b[39m\"\u001b[39m, \u001b[39mNone\u001b[39;00m))\n\u001b[0;32m    442\u001b[0m     \u001b[39mreturn\u001b[39;00m response\n",
      "File \u001b[1;32mc:\\Users\\Administrator\\AppData\\Local\\Programs\\Python\\Python310\\lib\\site-packages\\selenium\\webdriver\\remote\\errorhandler.py:245\u001b[0m, in \u001b[0;36mErrorHandler.check_response\u001b[1;34m(self, response)\u001b[0m\n\u001b[0;32m    243\u001b[0m         alert_text \u001b[39m=\u001b[39m value[\u001b[39m\"\u001b[39m\u001b[39malert\u001b[39m\u001b[39m\"\u001b[39m]\u001b[39m.\u001b[39mget(\u001b[39m\"\u001b[39m\u001b[39mtext\u001b[39m\u001b[39m\"\u001b[39m)\n\u001b[0;32m    244\u001b[0m     \u001b[39mraise\u001b[39;00m exception_class(message, screen, stacktrace, alert_text)  \u001b[39m# type: ignore[call-arg]  # mypy is not smart enough here\u001b[39;00m\n\u001b[1;32m--> 245\u001b[0m \u001b[39mraise\u001b[39;00m exception_class(message, screen, stacktrace)\n",
      "\u001b[1;31mNoSuchElementException\u001b[0m: Message: no such element: Unable to locate element: {\"method\":\"xpath\",\"selector\":\"//*[@id=\"mount_0_0_ke\"]/div/div/div[2]/div/div/div/div[1]/div[1]/div[1]/div/div/div[2]/div/div/div/div/div[2]/div[2]/div\"}\n  (Session info: chrome=112.0.5615.87)\nStacktrace:\nBacktrace:\n\t(No symbol) [0x004ADCE3]\n\t(No symbol) [0x004439D1]\n\t(No symbol) [0x00354DA8]\n\t(No symbol) [0x0038019F]\n\t(No symbol) [0x003803AB]\n\t(No symbol) [0x003AEE62]\n\t(No symbol) [0x0039AF14]\n\t(No symbol) [0x003AD57C]\n\t(No symbol) [0x0039ACC6]\n\t(No symbol) [0x00376F68]\n\t(No symbol) [0x003780CD]\n\tGetHandleVerifier [0x00723832+2506274]\n\tGetHandleVerifier [0x00759794+2727300]\n\tGetHandleVerifier [0x0075E36C+2746716]\n\tGetHandleVerifier [0x00556690+617600]\n\t(No symbol) [0x0044C712]\n\t(No symbol) [0x00451FF8]\n\t(No symbol) [0x004520DB]\n\t(No symbol) [0x0045C63B]\n\tBaseThreadInitThunk [0x757400F9+25]\n\tRtlGetAppContainerNamedObjectPath [0x77697BBE+286]\n\tRtlGetAppContainerNamedObjectPath [0x77697B8E+238]\n"
     ]
    }
   ],
   "source": [
    "\n",
    "\n"
   ]
  },
  {
   "cell_type": "code",
   "execution_count": 26,
   "metadata": {},
   "outputs": [
    {
     "data": {
      "text/plain": [
       "'25'"
      ]
     },
     "execution_count": 26,
     "metadata": {},
     "output_type": "execute_result"
    }
   ],
   "source": [
    "\n",
    "\n",
    "#팔로워 수보다 팔로잉이 많을 경우만 팔로우\n",
    "follower = driver.find_element(by=By.XPATH, value='//*[@id=\"mount_0_0_gT\"]/div/div/div[2]/div/div/div/div[1]/div[1]/div[2]/div[2]/section/main/div/header/section/ul/li[2]/a/span/span')\n",
    "following= driver.find_element(by=By.XPATH, value='//*[@id=\"mount_0_0_gT\"]/div/div/div[2]/div/div/div/div[1]/div[1]/div[2]/div[2]/section/main/div/header/section/ul/li[3]/a/span/span')\n",
    "follower_count=int(follower.text)\n",
    "following_count=int(following.text)\n",
    "if follower_count < following_count:\n",
    "    #팔로우 안된 계정이면 팔로우하기\n",
    "    follow = driver.find_element(by=By.XPATH, value='//*[@id=\"mount_0_0_gT\"]/div/div/div[2]/div/div/div/div[1]/div[1]/div[2]/div[2]/section/main/div/header/section/div[1]/div[1]/div/div/button/div/div')\n",
    "    if follow.text == '팔로우':\n",
    "        follow.click()"
   ]
  },
  {
   "cell_type": "code",
   "execution_count": 31,
   "metadata": {},
   "outputs": [
    {
     "ename": "NameError",
     "evalue": "name 'ID' is not defined",
     "output_type": "error",
     "traceback": [
      "\u001b[1;31m---------------------------------------------------------------------------\u001b[0m",
      "\u001b[1;31mNameError\u001b[0m                                 Traceback (most recent call last)",
      "Cell \u001b[1;32mIn[31], line 1\u001b[0m\n\u001b[1;32m----> 1\u001b[0m driver\u001b[39m.\u001b[39mget(\u001b[39mf\u001b[39m\u001b[39m'\u001b[39m\u001b[39mhttps://www.instagram.com/\u001b[39m\u001b[39m{\u001b[39;00mID\u001b[39m}\u001b[39;00m\u001b[39m/\u001b[39m\u001b[39m'\u001b[39m)\n",
      "\u001b[1;31mNameError\u001b[0m: name 'ID' is not defined"
     ]
    }
   ],
   "source": [
    "\n"
   ]
  },
  {
   "cell_type": "code",
   "execution_count": null,
   "metadata": {},
   "outputs": [],
   "source": []
  }
 ],
 "metadata": {
  "kernelspec": {
   "display_name": "Python 3",
   "language": "python",
   "name": "python3"
  },
  "language_info": {
   "codemirror_mode": {
    "name": "ipython",
    "version": 3
   },
   "file_extension": ".py",
   "mimetype": "text/x-python",
   "name": "python",
   "nbconvert_exporter": "python",
   "pygments_lexer": "ipython3",
   "version": "3.10.10"
  },
  "orig_nbformat": 4
 },
 "nbformat": 4,
 "nbformat_minor": 2
}
